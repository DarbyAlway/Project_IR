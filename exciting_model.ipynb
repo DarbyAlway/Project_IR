{
 "cells": [
  {
   "cell_type": "code",
   "execution_count": 11,
   "metadata": {},
   "outputs": [
    {
     "name": "stdout",
     "output_type": "stream",
     "text": [
      "\n",
      "image 1/1 C:\\Users\\user\\Project_IR\\Variety_Granny-Smith-transparent-550x550.png: 224x224 Granny_Smith 1.00, lemon 0.00, fig 0.00, banana 0.00, orange 0.00, 107.2ms\n",
      "Speed: 4.9ms preprocess, 107.2ms inference, 0.0ms postprocess per image at shape (1, 3, 224, 224)\n",
      "Predicted class: Granny_Smith\n"
     ]
    }
   ],
   "source": [
    "from ultralytics import YOLO\n",
    "\n",
    "# Load YOLOv8 model\n",
    "model = YOLO(\"yolov8x-cls.pt\")  # Object detection model\n",
    "\n",
    "# Predict\n",
    "results = model(\"C:/Users/user/Project_IR/Variety_Granny-Smith-transparent-550x550.png\")\n",
    "\n",
    "# Print detected objects\n",
    "for result in results:\n",
    "    print(f\"Predicted class: {result.names[result.probs.top1]}\")  # Example output: \"cat\""
   ]
  },
  {
   "cell_type": "code",
   "execution_count": 10,
   "metadata": {},
   "outputs": [],
   "source": [
    "model.save(\"custom_yolov8x-cls.pt\")\n"
   ]
  },
  {
   "cell_type": "code",
   "execution_count": null,
   "metadata": {},
   "outputs": [],
   "source": []
  }
 ],
 "metadata": {
  "kernelspec": {
   "display_name": "base",
   "language": "python",
   "name": "python3"
  },
  "language_info": {
   "codemirror_mode": {
    "name": "ipython",
    "version": 3
   },
   "file_extension": ".py",
   "mimetype": "text/x-python",
   "name": "python",
   "nbconvert_exporter": "python",
   "pygments_lexer": "ipython3",
   "version": "3.12.1"
  }
 },
 "nbformat": 4,
 "nbformat_minor": 2
}
