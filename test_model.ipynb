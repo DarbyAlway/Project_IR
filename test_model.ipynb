{
 "cells": [
  {
   "cell_type": "code",
   "execution_count": 62,
   "metadata": {},
   "outputs": [],
   "source": [
    "import pandas as pd\n",
    "import numpy as np\n"
   ]
  },
  {
   "cell_type": "code",
   "execution_count": 63,
   "metadata": {},
   "outputs": [],
   "source": [
    "df = pd.read_csv('full_recipes.csv')\n",
    "reviews = pd.read_csv('resource/reviews.csv')"
   ]
  },
  {
   "cell_type": "code",
   "execution_count": 64,
   "metadata": {},
   "outputs": [],
   "source": [
    "features = ['RecipeId',\n",
    "       'AggregatedRating', 'ReviewCount', 'Calories', 'FatContent',\n",
    "       'SaturatedFatContent', 'CholesterolContent', 'SodiumContent',\n",
    "       'CarbohydrateContent', 'FiberContent', 'SugarContent', 'ProteinContent',\n",
    "       'RecipeServings','RecipeCategory']"
   ]
  },
  {
   "cell_type": "code",
   "execution_count": 65,
   "metadata": {},
   "outputs": [],
   "source": [
    "new_df = df[features]"
   ]
  },
  {
   "cell_type": "code",
   "execution_count": 66,
   "metadata": {},
   "outputs": [
    {
     "data": {
      "text/html": [
       "<div>\n",
       "<style scoped>\n",
       "    .dataframe tbody tr th:only-of-type {\n",
       "        vertical-align: middle;\n",
       "    }\n",
       "\n",
       "    .dataframe tbody tr th {\n",
       "        vertical-align: top;\n",
       "    }\n",
       "\n",
       "    .dataframe thead th {\n",
       "        text-align: right;\n",
       "    }\n",
       "</style>\n",
       "<table border=\"1\" class=\"dataframe\">\n",
       "  <thead>\n",
       "    <tr style=\"text-align: right;\">\n",
       "      <th></th>\n",
       "      <th>RecipeId</th>\n",
       "      <th>AggregatedRating</th>\n",
       "      <th>ReviewCount</th>\n",
       "      <th>Calories</th>\n",
       "      <th>FatContent</th>\n",
       "      <th>SaturatedFatContent</th>\n",
       "      <th>CholesterolContent</th>\n",
       "      <th>SodiumContent</th>\n",
       "      <th>CarbohydrateContent</th>\n",
       "      <th>FiberContent</th>\n",
       "      <th>SugarContent</th>\n",
       "      <th>ProteinContent</th>\n",
       "      <th>RecipeServings</th>\n",
       "      <th>RecipeCategory</th>\n",
       "    </tr>\n",
       "  </thead>\n",
       "  <tbody>\n",
       "    <tr>\n",
       "      <th>0</th>\n",
       "      <td>38</td>\n",
       "      <td>4.5</td>\n",
       "      <td>4.0</td>\n",
       "      <td>170.9</td>\n",
       "      <td>2.5</td>\n",
       "      <td>1.3</td>\n",
       "      <td>8.0</td>\n",
       "      <td>29.8</td>\n",
       "      <td>37.1</td>\n",
       "      <td>3.6</td>\n",
       "      <td>30.2</td>\n",
       "      <td>3.2</td>\n",
       "      <td>4.0</td>\n",
       "      <td>Frozen Desserts</td>\n",
       "    </tr>\n",
       "    <tr>\n",
       "      <th>1</th>\n",
       "      <td>39</td>\n",
       "      <td>3.0</td>\n",
       "      <td>1.0</td>\n",
       "      <td>1110.7</td>\n",
       "      <td>58.8</td>\n",
       "      <td>16.6</td>\n",
       "      <td>372.8</td>\n",
       "      <td>368.4</td>\n",
       "      <td>84.4</td>\n",
       "      <td>9.0</td>\n",
       "      <td>20.4</td>\n",
       "      <td>63.4</td>\n",
       "      <td>6.0</td>\n",
       "      <td>Chicken Breast</td>\n",
       "    </tr>\n",
       "    <tr>\n",
       "      <th>2</th>\n",
       "      <td>40</td>\n",
       "      <td>4.5</td>\n",
       "      <td>10.0</td>\n",
       "      <td>311.1</td>\n",
       "      <td>0.2</td>\n",
       "      <td>0.0</td>\n",
       "      <td>0.0</td>\n",
       "      <td>1.8</td>\n",
       "      <td>81.5</td>\n",
       "      <td>0.4</td>\n",
       "      <td>77.2</td>\n",
       "      <td>0.3</td>\n",
       "      <td>4.0</td>\n",
       "      <td>Beverages</td>\n",
       "    </tr>\n",
       "    <tr>\n",
       "      <th>3</th>\n",
       "      <td>41</td>\n",
       "      <td>4.5</td>\n",
       "      <td>2.0</td>\n",
       "      <td>536.1</td>\n",
       "      <td>24.0</td>\n",
       "      <td>3.8</td>\n",
       "      <td>0.0</td>\n",
       "      <td>1558.6</td>\n",
       "      <td>64.2</td>\n",
       "      <td>17.3</td>\n",
       "      <td>32.1</td>\n",
       "      <td>29.3</td>\n",
       "      <td>2.0</td>\n",
       "      <td>Soy/Tofu</td>\n",
       "    </tr>\n",
       "    <tr>\n",
       "      <th>4</th>\n",
       "      <td>42</td>\n",
       "      <td>4.5</td>\n",
       "      <td>11.0</td>\n",
       "      <td>103.6</td>\n",
       "      <td>0.4</td>\n",
       "      <td>0.1</td>\n",
       "      <td>0.0</td>\n",
       "      <td>959.3</td>\n",
       "      <td>25.1</td>\n",
       "      <td>4.8</td>\n",
       "      <td>17.7</td>\n",
       "      <td>4.3</td>\n",
       "      <td>4.0</td>\n",
       "      <td>Vegetable</td>\n",
       "    </tr>\n",
       "  </tbody>\n",
       "</table>\n",
       "</div>"
      ],
      "text/plain": [
       "   RecipeId  AggregatedRating  ReviewCount  Calories  FatContent  \\\n",
       "0        38               4.5          4.0     170.9         2.5   \n",
       "1        39               3.0          1.0    1110.7        58.8   \n",
       "2        40               4.5         10.0     311.1         0.2   \n",
       "3        41               4.5          2.0     536.1        24.0   \n",
       "4        42               4.5         11.0     103.6         0.4   \n",
       "\n",
       "   SaturatedFatContent  CholesterolContent  SodiumContent  \\\n",
       "0                  1.3                 8.0           29.8   \n",
       "1                 16.6               372.8          368.4   \n",
       "2                  0.0                 0.0            1.8   \n",
       "3                  3.8                 0.0         1558.6   \n",
       "4                  0.1                 0.0          959.3   \n",
       "\n",
       "   CarbohydrateContent  FiberContent  SugarContent  ProteinContent  \\\n",
       "0                 37.1           3.6          30.2             3.2   \n",
       "1                 84.4           9.0          20.4            63.4   \n",
       "2                 81.5           0.4          77.2             0.3   \n",
       "3                 64.2          17.3          32.1            29.3   \n",
       "4                 25.1           4.8          17.7             4.3   \n",
       "\n",
       "   RecipeServings   RecipeCategory  \n",
       "0             4.0  Frozen Desserts  \n",
       "1             6.0   Chicken Breast  \n",
       "2             4.0        Beverages  \n",
       "3             2.0         Soy/Tofu  \n",
       "4             4.0        Vegetable  "
      ]
     },
     "execution_count": 66,
     "metadata": {},
     "output_type": "execute_result"
    }
   ],
   "source": [
    "new_df.head()"
   ]
  },
  {
   "cell_type": "code",
   "execution_count": 67,
   "metadata": {},
   "outputs": [
    {
     "name": "stderr",
     "output_type": "stream",
     "text": [
      "C:\\Users\\user\\AppData\\Local\\Temp\\ipykernel_18668\\1146903438.py:3: SettingWithCopyWarning: \n",
      "A value is trying to be set on a copy of a slice from a DataFrame.\n",
      "Try using .loc[row_indexer,col_indexer] = value instead\n",
      "\n",
      "See the caveats in the documentation: https://pandas.pydata.org/pandas-docs/stable/user_guide/indexing.html#returning-a-view-versus-a-copy\n",
      "  new_df['RecipeCategory'] = labelencoder.fit_transform(new_df['RecipeCategory'])\n"
     ]
    }
   ],
   "source": [
    "from sklearn.preprocessing import LabelEncoder\n",
    "labelencoder = LabelEncoder()\n",
    "new_df['RecipeCategory'] = labelencoder.fit_transform(new_df['RecipeCategory'])\n"
   ]
  },
  {
   "cell_type": "code",
   "execution_count": 68,
   "metadata": {},
   "outputs": [
    {
     "data": {
      "text/html": [
       "<div>\n",
       "<style scoped>\n",
       "    .dataframe tbody tr th:only-of-type {\n",
       "        vertical-align: middle;\n",
       "    }\n",
       "\n",
       "    .dataframe tbody tr th {\n",
       "        vertical-align: top;\n",
       "    }\n",
       "\n",
       "    .dataframe thead th {\n",
       "        text-align: right;\n",
       "    }\n",
       "</style>\n",
       "<table border=\"1\" class=\"dataframe\">\n",
       "  <thead>\n",
       "    <tr style=\"text-align: right;\">\n",
       "      <th></th>\n",
       "      <th>RecipeId</th>\n",
       "      <th>AggregatedRating</th>\n",
       "      <th>ReviewCount</th>\n",
       "      <th>Calories</th>\n",
       "      <th>FatContent</th>\n",
       "      <th>SaturatedFatContent</th>\n",
       "      <th>CholesterolContent</th>\n",
       "      <th>SodiumContent</th>\n",
       "      <th>CarbohydrateContent</th>\n",
       "      <th>FiberContent</th>\n",
       "      <th>SugarContent</th>\n",
       "      <th>ProteinContent</th>\n",
       "      <th>RecipeServings</th>\n",
       "      <th>RecipeCategory</th>\n",
       "    </tr>\n",
       "  </thead>\n",
       "  <tbody>\n",
       "    <tr>\n",
       "      <th>0</th>\n",
       "      <td>38</td>\n",
       "      <td>4.5</td>\n",
       "      <td>4.0</td>\n",
       "      <td>170.9</td>\n",
       "      <td>2.5</td>\n",
       "      <td>1.3</td>\n",
       "      <td>8.0</td>\n",
       "      <td>29.8</td>\n",
       "      <td>37.1</td>\n",
       "      <td>3.6</td>\n",
       "      <td>30.2</td>\n",
       "      <td>3.2</td>\n",
       "      <td>4.0</td>\n",
       "      <td>105</td>\n",
       "    </tr>\n",
       "    <tr>\n",
       "      <th>1</th>\n",
       "      <td>39</td>\n",
       "      <td>3.0</td>\n",
       "      <td>1.0</td>\n",
       "      <td>1110.7</td>\n",
       "      <td>58.8</td>\n",
       "      <td>16.6</td>\n",
       "      <td>372.8</td>\n",
       "      <td>368.4</td>\n",
       "      <td>84.4</td>\n",
       "      <td>9.0</td>\n",
       "      <td>20.4</td>\n",
       "      <td>63.4</td>\n",
       "      <td>6.0</td>\n",
       "      <td>55</td>\n",
       "    </tr>\n",
       "    <tr>\n",
       "      <th>2</th>\n",
       "      <td>40</td>\n",
       "      <td>4.5</td>\n",
       "      <td>10.0</td>\n",
       "      <td>311.1</td>\n",
       "      <td>0.2</td>\n",
       "      <td>0.0</td>\n",
       "      <td>0.0</td>\n",
       "      <td>1.8</td>\n",
       "      <td>81.5</td>\n",
       "      <td>0.4</td>\n",
       "      <td>77.2</td>\n",
       "      <td>0.3</td>\n",
       "      <td>4.0</td>\n",
       "      <td>24</td>\n",
       "    </tr>\n",
       "    <tr>\n",
       "      <th>3</th>\n",
       "      <td>41</td>\n",
       "      <td>4.5</td>\n",
       "      <td>2.0</td>\n",
       "      <td>536.1</td>\n",
       "      <td>24.0</td>\n",
       "      <td>3.8</td>\n",
       "      <td>0.0</td>\n",
       "      <td>1558.6</td>\n",
       "      <td>64.2</td>\n",
       "      <td>17.3</td>\n",
       "      <td>32.1</td>\n",
       "      <td>29.3</td>\n",
       "      <td>2.0</td>\n",
       "      <td>256</td>\n",
       "    </tr>\n",
       "    <tr>\n",
       "      <th>4</th>\n",
       "      <td>42</td>\n",
       "      <td>4.5</td>\n",
       "      <td>11.0</td>\n",
       "      <td>103.6</td>\n",
       "      <td>0.4</td>\n",
       "      <td>0.1</td>\n",
       "      <td>0.0</td>\n",
       "      <td>959.3</td>\n",
       "      <td>25.1</td>\n",
       "      <td>4.8</td>\n",
       "      <td>17.7</td>\n",
       "      <td>4.3</td>\n",
       "      <td>4.0</td>\n",
       "      <td>295</td>\n",
       "    </tr>\n",
       "  </tbody>\n",
       "</table>\n",
       "</div>"
      ],
      "text/plain": [
       "   RecipeId  AggregatedRating  ReviewCount  Calories  FatContent  \\\n",
       "0        38               4.5          4.0     170.9         2.5   \n",
       "1        39               3.0          1.0    1110.7        58.8   \n",
       "2        40               4.5         10.0     311.1         0.2   \n",
       "3        41               4.5          2.0     536.1        24.0   \n",
       "4        42               4.5         11.0     103.6         0.4   \n",
       "\n",
       "   SaturatedFatContent  CholesterolContent  SodiumContent  \\\n",
       "0                  1.3                 8.0           29.8   \n",
       "1                 16.6               372.8          368.4   \n",
       "2                  0.0                 0.0            1.8   \n",
       "3                  3.8                 0.0         1558.6   \n",
       "4                  0.1                 0.0          959.3   \n",
       "\n",
       "   CarbohydrateContent  FiberContent  SugarContent  ProteinContent  \\\n",
       "0                 37.1           3.6          30.2             3.2   \n",
       "1                 84.4           9.0          20.4            63.4   \n",
       "2                 81.5           0.4          77.2             0.3   \n",
       "3                 64.2          17.3          32.1            29.3   \n",
       "4                 25.1           4.8          17.7             4.3   \n",
       "\n",
       "   RecipeServings  RecipeCategory  \n",
       "0             4.0             105  \n",
       "1             6.0              55  \n",
       "2             4.0              24  \n",
       "3             2.0             256  \n",
       "4             4.0             295  "
      ]
     },
     "execution_count": 68,
     "metadata": {},
     "output_type": "execute_result"
    }
   ],
   "source": [
    "new_df.head()"
   ]
  },
  {
   "cell_type": "code",
   "execution_count": 69,
   "metadata": {},
   "outputs": [
    {
     "name": "stdout",
     "output_type": "stream",
     "text": [
      "RecipeId               0\n",
      "AggregatedRating       0\n",
      "ReviewCount            0\n",
      "Calories               0\n",
      "FatContent             0\n",
      "SaturatedFatContent    0\n",
      "CholesterolContent     0\n",
      "SodiumContent          0\n",
      "CarbohydrateContent    0\n",
      "FiberContent           0\n",
      "SugarContent           0\n",
      "ProteinContent         0\n",
      "RecipeServings         0\n",
      "RecipeCategory         0\n",
      "dtype: int64\n"
     ]
    }
   ],
   "source": [
    "from sklearn.impute import SimpleImputer\n",
    "\n",
    "# Initialize the imputer with the strategy to replace NaN with the mean\n",
    "imputer = SimpleImputer(strategy='mean')\n",
    "\n",
    "# Apply the imputer to the DataFrame (only for numeric columns)\n",
    "new_df = pd.DataFrame(imputer.fit_transform(new_df), columns=new_df.columns)\n",
    "\n",
    "# Display the DataFrame with imputed values\n",
    "print(new_df.isnull().sum())\n"
   ]
  },
  {
   "cell_type": "code",
   "execution_count": 70,
   "metadata": {},
   "outputs": [
    {
     "data": {
      "text/html": [
       "<div>\n",
       "<style scoped>\n",
       "    .dataframe tbody tr th:only-of-type {\n",
       "        vertical-align: middle;\n",
       "    }\n",
       "\n",
       "    .dataframe tbody tr th {\n",
       "        vertical-align: top;\n",
       "    }\n",
       "\n",
       "    .dataframe thead th {\n",
       "        text-align: right;\n",
       "    }\n",
       "</style>\n",
       "<table border=\"1\" class=\"dataframe\">\n",
       "  <thead>\n",
       "    <tr style=\"text-align: right;\">\n",
       "      <th></th>\n",
       "      <th>RecipeId</th>\n",
       "      <th>AggregatedRating</th>\n",
       "      <th>ReviewCount</th>\n",
       "      <th>Calories</th>\n",
       "      <th>FatContent</th>\n",
       "      <th>SaturatedFatContent</th>\n",
       "      <th>CholesterolContent</th>\n",
       "      <th>SodiumContent</th>\n",
       "      <th>CarbohydrateContent</th>\n",
       "      <th>FiberContent</th>\n",
       "      <th>SugarContent</th>\n",
       "      <th>ProteinContent</th>\n",
       "      <th>RecipeServings</th>\n",
       "      <th>RecipeCategory</th>\n",
       "    </tr>\n",
       "  </thead>\n",
       "  <tbody>\n",
       "    <tr>\n",
       "      <th>0</th>\n",
       "      <td>38.0</td>\n",
       "      <td>4.5</td>\n",
       "      <td>4.0</td>\n",
       "      <td>170.9</td>\n",
       "      <td>2.5</td>\n",
       "      <td>1.3</td>\n",
       "      <td>8.0</td>\n",
       "      <td>29.8</td>\n",
       "      <td>37.1</td>\n",
       "      <td>3.6</td>\n",
       "      <td>30.2</td>\n",
       "      <td>3.2</td>\n",
       "      <td>4.0</td>\n",
       "      <td>105.0</td>\n",
       "    </tr>\n",
       "    <tr>\n",
       "      <th>1</th>\n",
       "      <td>39.0</td>\n",
       "      <td>3.0</td>\n",
       "      <td>1.0</td>\n",
       "      <td>1110.7</td>\n",
       "      <td>58.8</td>\n",
       "      <td>16.6</td>\n",
       "      <td>372.8</td>\n",
       "      <td>368.4</td>\n",
       "      <td>84.4</td>\n",
       "      <td>9.0</td>\n",
       "      <td>20.4</td>\n",
       "      <td>63.4</td>\n",
       "      <td>6.0</td>\n",
       "      <td>55.0</td>\n",
       "    </tr>\n",
       "    <tr>\n",
       "      <th>2</th>\n",
       "      <td>40.0</td>\n",
       "      <td>4.5</td>\n",
       "      <td>10.0</td>\n",
       "      <td>311.1</td>\n",
       "      <td>0.2</td>\n",
       "      <td>0.0</td>\n",
       "      <td>0.0</td>\n",
       "      <td>1.8</td>\n",
       "      <td>81.5</td>\n",
       "      <td>0.4</td>\n",
       "      <td>77.2</td>\n",
       "      <td>0.3</td>\n",
       "      <td>4.0</td>\n",
       "      <td>24.0</td>\n",
       "    </tr>\n",
       "    <tr>\n",
       "      <th>3</th>\n",
       "      <td>41.0</td>\n",
       "      <td>4.5</td>\n",
       "      <td>2.0</td>\n",
       "      <td>536.1</td>\n",
       "      <td>24.0</td>\n",
       "      <td>3.8</td>\n",
       "      <td>0.0</td>\n",
       "      <td>1558.6</td>\n",
       "      <td>64.2</td>\n",
       "      <td>17.3</td>\n",
       "      <td>32.1</td>\n",
       "      <td>29.3</td>\n",
       "      <td>2.0</td>\n",
       "      <td>256.0</td>\n",
       "    </tr>\n",
       "    <tr>\n",
       "      <th>4</th>\n",
       "      <td>42.0</td>\n",
       "      <td>4.5</td>\n",
       "      <td>11.0</td>\n",
       "      <td>103.6</td>\n",
       "      <td>0.4</td>\n",
       "      <td>0.1</td>\n",
       "      <td>0.0</td>\n",
       "      <td>959.3</td>\n",
       "      <td>25.1</td>\n",
       "      <td>4.8</td>\n",
       "      <td>17.7</td>\n",
       "      <td>4.3</td>\n",
       "      <td>4.0</td>\n",
       "      <td>295.0</td>\n",
       "    </tr>\n",
       "  </tbody>\n",
       "</table>\n",
       "</div>"
      ],
      "text/plain": [
       "   RecipeId  AggregatedRating  ReviewCount  Calories  FatContent  \\\n",
       "0      38.0               4.5          4.0     170.9         2.5   \n",
       "1      39.0               3.0          1.0    1110.7        58.8   \n",
       "2      40.0               4.5         10.0     311.1         0.2   \n",
       "3      41.0               4.5          2.0     536.1        24.0   \n",
       "4      42.0               4.5         11.0     103.6         0.4   \n",
       "\n",
       "   SaturatedFatContent  CholesterolContent  SodiumContent  \\\n",
       "0                  1.3                 8.0           29.8   \n",
       "1                 16.6               372.8          368.4   \n",
       "2                  0.0                 0.0            1.8   \n",
       "3                  3.8                 0.0         1558.6   \n",
       "4                  0.1                 0.0          959.3   \n",
       "\n",
       "   CarbohydrateContent  FiberContent  SugarContent  ProteinContent  \\\n",
       "0                 37.1           3.6          30.2             3.2   \n",
       "1                 84.4           9.0          20.4            63.4   \n",
       "2                 81.5           0.4          77.2             0.3   \n",
       "3                 64.2          17.3          32.1            29.3   \n",
       "4                 25.1           4.8          17.7             4.3   \n",
       "\n",
       "   RecipeServings  RecipeCategory  \n",
       "0             4.0           105.0  \n",
       "1             6.0            55.0  \n",
       "2             4.0            24.0  \n",
       "3             2.0           256.0  \n",
       "4             4.0           295.0  "
      ]
     },
     "execution_count": 70,
     "metadata": {},
     "output_type": "execute_result"
    }
   ],
   "source": [
    "new_df.head()"
   ]
  },
  {
   "cell_type": "code",
   "execution_count": 71,
   "metadata": {},
   "outputs": [],
   "source": [
    "column_to_standardize = ['Calories', 'FatContent', 'SaturatedFatContent', 'CholesterolContent', 'SodiumContent', 'CarbohydrateContent', 'FiberContent', 'SugarContent', 'ProteinContent']"
   ]
  },
  {
   "cell_type": "code",
   "execution_count": 108,
   "metadata": {},
   "outputs": [],
   "source": [
    "from sklearn.preprocessing import MinMaxScaler\n",
    "scaler = MinMaxScaler()\n",
    "new_df_scaled = new_df.copy()\n",
    "new_df_scaled[column_to_standardize] = scaler.fit_transform(new_df_scaled[column_to_standardize])"
   ]
  },
  {
   "cell_type": "code",
   "execution_count": 123,
   "metadata": {},
   "outputs": [],
   "source": [
    "new_df_scaled.head()\n",
    "new_df_scaled.drop('RecipeId', axis=1, inplace=True)"
   ]
  },
  {
   "cell_type": "code",
   "execution_count": 124,
   "metadata": {},
   "outputs": [],
   "source": [
    "X = new_df_scaled.drop(columns=['AggregatedRating'])\n",
    "y = new_df_scaled['AggregatedRating']"
   ]
  },
  {
   "cell_type": "code",
   "execution_count": 128,
   "metadata": {},
   "outputs": [],
   "source": [
    "values = [[4.0, 0.600112, 0.600016, 0.600019, 0.600025, 0.600010, 0.600137, 0.600478, 0.600133, 0.600070, 4.0, 105.0]]\n"
   ]
  },
  {
   "cell_type": "code",
   "execution_count": 129,
   "metadata": {},
   "outputs": [
    {
     "name": "stdout",
     "output_type": "stream",
     "text": [
      "Mean Absolute Error (MAE): 0.24659274688090013\n",
      "Mean Squared Error (MSE): 0.2111849383597851\n",
      "Root Mean Squared Error (RMSE): 0.45954862458698004\n",
      "R-squared (R²): 0.005608503439050838\n"
     ]
    },
    {
     "name": "stderr",
     "output_type": "stream",
     "text": [
      "c:\\Users\\user\\miniconda3\\Lib\\site-packages\\sklearn\\base.py:493: UserWarning: X does not have valid feature names, but LinearRegression was fitted with feature names\n",
      "  warnings.warn(\n"
     ]
    }
   ],
   "source": [
    "import pandas as pd\n",
    "from sklearn.linear_model import LinearRegression\n",
    "from sklearn.metrics import mean_absolute_error, mean_squared_error, r2_score\n",
    "import numpy as np\n",
    "from sklearn.model_selection import train_test_split\n",
    "\n",
    "X_train, X_temp, y_train, y_temp = train_test_split(X, y, test_size=0.2, random_state=42)\n",
    "\n",
    "# Step 2: Split the temporary data into validation (50%) and test (50%) sets (i.e., 10% each of the total data)\n",
    "X_valid, X_test, y_valid, y_test = train_test_split(X_temp, y_temp, test_size=0.5, random_state=42)\n",
    "model = LinearRegression()\n",
    "model.fit(X_train, y_train)\n",
    "\n",
    "# Rank job listings based on predicted rating\n",
    "y_pred = model.predict(values)\n",
    "\n",
    "y_pred = model.predict(X)\n",
    "mae = mean_absolute_error(y, y_pred)\n",
    "mse = mean_squared_error(y, y_pred)\n",
    "rmse = np.sqrt(mse)\n",
    "r2 = r2_score(y, y_pred)\n",
    "\n",
    "# Print the evaluation metrics\n",
    "print(f'Mean Absolute Error (MAE): {mae}')\n",
    "print(f'Mean Squared Error (MSE): {mse}')\n",
    "print(f'Root Mean Squared Error (RMSE): {rmse}')\n",
    "print(f'R-squared (R²): {r2}')"
   ]
  },
  {
   "cell_type": "code",
   "execution_count": 130,
   "metadata": {},
   "outputs": [],
   "source": [
    "y_pred = model.predict(X_valid)"
   ]
  },
  {
   "cell_type": "code",
   "execution_count": 131,
   "metadata": {},
   "outputs": [
    {
     "name": "stdout",
     "output_type": "stream",
     "text": [
      "Mean Squared Error on Test Set: 0.216879212970215\n"
     ]
    }
   ],
   "source": [
    "mse = mean_squared_error(y_test, y_pred)\n",
    "print(f\"Mean Squared Error on Test Set: {mse}\")"
   ]
  },
  {
   "cell_type": "code",
   "execution_count": 132,
   "metadata": {},
   "outputs": [
    {
     "data": {
      "text/plain": [
       "(52252, 12)"
      ]
     },
     "execution_count": 132,
     "metadata": {},
     "output_type": "execute_result"
    }
   ],
   "source": [
    "X_valid.shape"
   ]
  },
  {
   "cell_type": "code",
   "execution_count": 134,
   "metadata": {},
   "outputs": [
    {
     "name": "stderr",
     "output_type": "stream",
     "text": [
      "c:\\Users\\user\\miniconda3\\Lib\\site-packages\\sklearn\\base.py:493: UserWarning: X does not have valid feature names, but LinearRegression was fitted with feature names\n",
      "  warnings.warn(\n"
     ]
    },
    {
     "name": "stdout",
     "output_type": "stream",
     "text": [
      "   RecipeId  Predicted_Rating\n",
      "0     45809         11.551662\n",
      "1      2886          9.767636\n",
      "2     27208          8.449333\n",
      "3     89204          8.372884\n",
      "4     39087          8.204152\n"
     ]
    }
   ],
   "source": [
    "# Assuming the model is already trained as 'model'\n",
    "# Define the new data point (values)\n",
    "values = [\n",
    "    [ 9.000000, 0.600238, 0.600066, 0.600036, 0.600444, 0.600042, 0.600040, 0.600398, 0.600028, 0.601185, 4.000000, 54.0],\n",
    "    [5.227784, 0.600026, 0.600001, 0.600000, 0.600000, 0.600000, 0.600038, 0.600226, 0.600035, 0.600004, 8.606191, 84.0],\n",
    "    [3.000000, 0.600164, 0.600079, 0.600060, 0.600240, 0.600025, 0.600025, 0.600266, 0.600016, 0.600572, 4.000000, 266.0]\n",
    "]\n",
    "# Step 1: Ensure that the new data matches the same format as the training data\n",
    "# Apply the same preprocessing steps you used in your model (like get_dummies for categorical features)\n",
    "\n",
    "# Step 2: Predict the rating for the new data\n",
    "new_rating_prediction = model.predict(values)\n",
    "\n",
    "# Step 3: Add the new data to the dataset to find the Food Id\n",
    "# First, create a DataFrame with the new input data\n",
    "new_data_df = pd.DataFrame(values, columns=X.columns)\n",
    "\n",
    "# Add the predicted rating to this DataFrame\n",
    "new_data_df['Predicted_Rating'] = new_rating_prediction[0]\n",
    "\n",
    "# Step 4: Sort the original dataset based on predicted ratings\n",
    "df['Predicted_Rating'] = model.predict(X)  # Apply the model on the entire original dataset\n",
    "\n",
    "# Step 5: Find the Food Id with the highest predicted rating\n",
    "df_sorted = df.sort_values(by='Predicted_Rating', ascending=False)\n",
    "predicted_food_id = df_sorted.iloc[0:5]['RecipeId']\n",
    "# Step 5: Find the Food Id with the highest predicted rating\n",
    "df_sorted = df.sort_values(by='Predicted_Rating', ascending=False)\n",
    "\n",
    "# Reset the index to drop the index column from the output\n",
    "df_sorted_reset = df_sorted[['RecipeId', 'Predicted_Rating']].reset_index(drop=True)\n",
    "\n",
    "# Output the top 5 rows (or adjust the number of rows as needed)\n",
    "print(df_sorted_reset.head())\n"
   ]
  },
  {
   "cell_type": "code",
   "execution_count": 136,
   "metadata": {},
   "outputs": [
    {
     "name": "stdout",
     "output_type": "stream",
     "text": [
      "        RecipeId                                  Name  AuthorId  AuthorName  \\\n",
      "112793    118743  Chicken With Tomatillos and Cilantro     46840  JaniceJean   \n",
      "\n",
      "       CookTime PrepTime TotalTime         DatePublished  \\\n",
      "112793    PT20M    PT15M     PT35M  2005-04-23T13:34:00Z   \n",
      "\n",
      "                                              Description RecipeCategory  ...  \\\n",
      "112793  If you've never cooked with tomatillos, this i...        Chicken  ...   \n",
      "\n",
      "       CarbohydrateContent FiberContent SugarContent  ProteinContent  \\\n",
      "112793                10.7          3.0          6.4            54.5   \n",
      "\n",
      "        RecipeServings  RecipeYield  \\\n",
      "112793             4.0          NaN   \n",
      "\n",
      "                                       RecipeInstructions  \\\n",
      "112793  c(\"Roast husked, rinsed tomatillos in a cast i...   \n",
      "\n",
      "                                                   Images  \\\n",
      "112793  c(\"https://img.sndimg.com/food/image/upload/w_...   \n",
      "\n",
      "                                                     text  Predicted_Rating  \n",
      "112793  Chicken With Tomatillos and Cilantro c(\"skinle...          4.638738  \n",
      "\n",
      "[1 rows x 30 columns]\n"
     ]
    }
   ],
   "source": [
    "filtered_data = df[df['RecipeId'] == 118743]\n",
    "print(filtered_data)"
   ]
  },
  {
   "cell_type": "code",
   "execution_count": 138,
   "metadata": {},
   "outputs": [
    {
     "name": "stdout",
     "output_type": "stream",
     "text": [
      "112793    Chicken With Tomatillos and Cilantro\n",
      "Name: Name, dtype: object\n",
      "84057    Crock-Pot Chicken With Black Beans &amp; Cream...\n",
      "Name: Name, dtype: object\n"
     ]
    }
   ],
   "source": [
    "filtered_data = df[df['RecipeId'] == 118743]\n",
    "predict_data = df[df['RecipeId'] == 89204]\n",
    "\n",
    "print(filtered_data['Name'])\n",
    "print(predict_data['Name'])"
   ]
  },
  {
   "cell_type": "code",
   "execution_count": null,
   "metadata": {},
   "outputs": [
    {
     "data": {
      "text/plain": [
       "0         4.614589\n",
       "1         4.599567\n",
       "2         4.625655\n",
       "3         4.616291\n",
       "4         4.635900\n",
       "            ...   \n",
       "522512    4.646227\n",
       "522513    4.651390\n",
       "522514    4.653385\n",
       "522515    4.647559\n",
       "522516    4.651037\n",
       "Name: Predicted_Rating, Length: 522517, dtype: float64"
      ]
     },
     "execution_count": 120,
     "metadata": {},
     "output_type": "execute_result"
    }
   ],
   "source": [
    "df['Predicted_Rating']"
   ]
  },
  {
   "cell_type": "code",
   "execution_count": null,
   "metadata": {},
   "outputs": [
    {
     "name": "stderr",
     "output_type": "stream",
     "text": [
      "c:\\Users\\user\\miniconda3\\Lib\\site-packages\\sklearn\\base.py:493: UserWarning: X does not have valid feature names, but LinearRegression was fitted with feature names\n",
      "  warnings.warn(\n"
     ]
    },
    {
     "name": "stdout",
     "output_type": "stream",
     "text": [
      "Predicted Rating: -7.209699740446457\n",
      "Food Id with the highest predicted rating: 45809\n"
     ]
    }
   ],
   "source": [
    "values = [[38.0, 4.0, 0.600112, 0.600016, 0.600019, 0.600025, 0.600010, 0.600137, 0.600478, 0.600133, 0.600070, 4.0, 105.0]]\n",
    "\n",
    "# Step 1: Ensure that the new data matches the same format as the training data\n",
    "# Apply the same preprocessing steps you used in your model (like get_dummies for categorical features)\n",
    "\n",
    "# Step 2: Predict the rating for the new data\n",
    "new_rating_prediction = model.predict(values)\n",
    "\n",
    "# Step 3: Add the new data to the dataset to find the Food Id\n",
    "# First, create a DataFrame with the new input data\n",
    "new_data_df = pd.DataFrame(values, columns=X.columns)\n",
    "\n",
    "# Add the predicted rating to this DataFrame\n",
    "new_data_df['Predicted_Rating'] = new_rating_prediction[0]\n",
    "\n",
    "# Step 4: Sort the original dataset based on predicted ratings\n",
    "df['Predicted_Rating'] = model.predict(X)  # Apply the model on the entire original dataset\n",
    "\n",
    "# Step 5: Find the Food Id with the highest predicted rating\n",
    "df_sorted = df.sort_values(by='Predicted_Rating', ascending=False)\n",
    "predicted_food_id = df_sorted.iloc[0]['RecipeId']\n",
    "\n",
    "# Output the predicted Food Id and the predicted rating\n",
    "print(f'Predicted Rating: {new_rating_prediction[0]}')\n",
    "print(f'Food Id with the highest predicted rating: {predicted_food_id}')"
   ]
  },
  {
   "cell_type": "code",
   "execution_count": null,
   "metadata": {},
   "outputs": [],
   "source": []
  }
 ],
 "metadata": {
  "kernelspec": {
   "display_name": "base",
   "language": "python",
   "name": "python3"
  },
  "language_info": {
   "codemirror_mode": {
    "name": "ipython",
    "version": 3
   },
   "file_extension": ".py",
   "mimetype": "text/x-python",
   "name": "python",
   "nbconvert_exporter": "python",
   "pygments_lexer": "ipython3",
   "version": "3.12.1"
  }
 },
 "nbformat": 4,
 "nbformat_minor": 2
}
